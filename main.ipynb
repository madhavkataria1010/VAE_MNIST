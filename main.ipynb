{
  "cells": [
    {
      "cell_type": "code",
      "execution_count": 1,
      "metadata": {
        "colab": {
          "base_uri": "https://localhost:8080/",
          "height": 216
        },
        "id": "6evYjLnMq5FR",
        "outputId": "1545ceb0-395b-44e5-b395-edd7eed32705"
      },
      "outputs": [],
      "source": [
        "import torch\n",
        "import torchvision.datasets as datasets\n",
        "from tqdm import tqdm\n",
        "from torch import nn, optim\n",
        "from torch.optim.lr_scheduler import ReduceLROnPlateau\n",
        "from torchvision import transforms\n",
        "from torchvision.utils import save_image\n",
        "from torch.utils.data import DataLoader\n",
        "import wandb\n",
        "from tqdm import tqdm\n",
        "import numpy as np\n",
        "import matplotlib.pyplot as plt"
      ]
    },
    {
      "cell_type": "code",
      "execution_count": 12,
      "metadata": {
        "id": "HoAJ2doLq9_l"
      },
      "outputs": [],
      "source": [
        "class VariationalAutoEncoder(nn.Module):\n",
        "    def __init__(self, input_dim, h_dim=200, z_dim=20):\n",
        "        super().__init__()\n",
        "        # encoder\n",
        "        self.img_2hid = nn.Linear(input_dim, h_dim)\n",
        "        self.hid_2mu = nn.Linear(h_dim, z_dim)\n",
        "        self.hid_2sigma = nn.Linear(h_dim, z_dim)\n",
        "\n",
        "        # decoder\n",
        "        self.z_2hid = nn.Linear(z_dim, h_dim)\n",
        "        self.hid_2img = nn.Linear(h_dim, input_dim)\n",
        "\n",
        "        self.relu = nn.ReLU()\n",
        "\n",
        "    def encode(self, x):\n",
        "        h = self.relu(self.img_2hid(x))\n",
        "        mu, sigma = self.hid_2mu(h), self.hid_2sigma(h)\n",
        "        return mu, sigma\n",
        "\n",
        "    def decode(self, z):\n",
        "        h = self.relu(self.z_2hid(z))\n",
        "        return torch.sigmoid(self.hid_2img(h))\n",
        "\n",
        "    def forward(self, x):\n",
        "        mu, sigma = self.encode(x)\n",
        "        epsilon = torch.randn_like(sigma)\n",
        "        z_new = mu + sigma*epsilon\n",
        "        x_reconstructed = self.decode(z_new)\n",
        "        return x_reconstructed, mu, sigma\n",
        "\n",
        "\n",
        "if __name__ == \"__main__\":\n",
        "    x = torch.randn(4, 28*28)\n",
        "    vae = VariationalAutoEncoder(input_dim=784)\n",
        "    x_reconstructed, mu, sigma = vae(x)"
      ]
    },
    {
      "cell_type": "code",
      "execution_count": null,
      "metadata": {
        "colab": {
          "base_uri": "https://localhost:8080/",
          "height": 215
        },
        "collapsed": true,
        "id": "s6Wl4bbgiXtU",
        "outputId": "e4622833-4b62-4051-c703-c54a4b4192ef"
      },
      "outputs": [],
      "source": [
        "wandb.login(key = 'key')\n",
        "wandb.init(project=\"VAE(RAID)\")"
      ]
    },
    {
      "cell_type": "code",
      "execution_count": 14,
      "metadata": {
        "colab": {
          "background_save": true
        },
        "id": "3IaDK09crN0Z",
        "outputId": "f34940c1-824e-4aff-9599-d3d8e33cc294"
      },
      "outputs": [],
      "source": [
        "DEVICE = torch.device(\"cuda\" if torch.cuda.is_available() else \"cpu\")\n",
        "INPUT_DIM = 784\n",
        "H_DIM = 200\n",
        "Z_DIM = 20\n",
        "number_epochs = 20\n",
        "Batch_size = 32\n",
        "Learning_rate = 3e-4"
      ]
    },
    {
      "cell_type": "code",
      "execution_count": null,
      "metadata": {
        "colab": {
          "background_save": true
        },
        "collapsed": true,
        "id": "xVmADtcjrR-P"
      },
      "outputs": [],
      "source": [
        "\n",
        "wandb.config.update({\n",
        "    \"input_dim\": INPUT_DIM,\n",
        "    \"hidden_dim\": H_DIM,\n",
        "    \"z_dim\": Z_DIM,\n",
        "    \"num_epochs\": number_epochs,\n",
        "    \"batch_size\": Batch_size,\n",
        "    \"learning_rate\": Learning_rate\n",
        "})\n",
        "\n",
        "dataset = datasets.MNIST(root=\"dataset/\", train=True, transform=transforms.ToTensor(), download=True)\n",
        "train_loader = DataLoader(dataset=dataset, batch_size=Batch_size, shuffle=True)\n",
        "model = VariationalAutoEncoder(INPUT_DIM, H_DIM, Z_DIM).to(DEVICE)\n",
        "optimizer = optim.Adam(model.parameters(), lr=Learning_rate)\n",
        "loss_fn = nn.BCELoss(reduction=\"sum\")\n",
        "scheduler = ReduceLROnPlateau(optimizer, mode='min', factor=0.5, patience=2, verbose=True)"
      ]
    },
    {
      "cell_type": "code",
      "execution_count": 16,
      "metadata": {
        "colab": {
          "background_save": true
        },
        "id": "d57mzK_brUX5"
      },
      "outputs": [],
      "source": [
        "def inference(num_examples=10):\n",
        "    images = {i: [] for i in range(10)}\n",
        "    for x, y in dataset:\n",
        "        if len(images[y]) < num_examples:\n",
        "            images[y].append(x)\n",
        "        if all(len(img_list) == num_examples for img_list in images.values()):\n",
        "            break\n",
        "\n",
        "    encodings_digit = {}\n",
        "    for digit in range(10):\n",
        "        encodings_digit[digit] = []\n",
        "        for img in images[digit]:\n",
        "            with torch.no_grad():\n",
        "                mu, sigma = model.encode(img.view(1, 784).to(DEVICE))\n",
        "            encodings_digit[digit].append((mu, sigma))\n",
        "\n",
        "    wandb_images = []\n",
        "    for digit in range(10):\n",
        "        for i in range(num_examples):\n",
        "            mu, sigma = encodings_digit[digit][i]\n",
        "            epsilon = torch.randn_like(sigma).to(DEVICE)\n",
        "            z = mu + sigma * epsilon\n",
        "            out = model.decode(z)\n",
        "            out = out.view(1, 28, 28)\n",
        "\n",
        "            original_img = images[digit][i].view(1, 28, 28)\n",
        "            comparison = torch.cat([original_img, out.cpu()], dim=-1)\n",
        "            wandb_images.append(wandb.Image(comparison, caption=f\"Digit {digit} Example {i}\"))\n",
        "\n",
        "    wandb.log({\"generated_images\": wandb_images})"
      ]
    },
    {
      "cell_type": "code",
      "execution_count": null,
      "metadata": {
        "colab": {
          "background_save": true
        },
        "id": "xjhnhGiyrXjE"
      },
      "outputs": [],
      "source": [
        "for epoch in range(number_epochs):\n",
        "    model.train()\n",
        "    overall_loss = 0\n",
        "    progress_bar = tqdm(train_loader, desc=f\"Epoch {epoch+1}/{number_epochs}\",\n",
        "                        bar_format='{l_bar}{bar:30}{r_bar}{bar:-30b}',\n",
        "                        colour='green', leave=False)\n",
        "\n",
        "    for batch_idx, (x, _) in enumerate(progress_bar):\n",
        "        x = x.view(Batch_size, INPUT_DIM).to(DEVICE)\n",
        "        x_reconstructed, mu, sigma = model(x)\n",
        "\n",
        "        reconstruction_loss = loss_fn(x_reconstructed, x)\n",
        "        kl_divergence = -0.5 * torch.sum(1 + torch.log(sigma**2) - mu**2 - sigma**2)\n",
        "        loss = reconstruction_loss + kl_divergence\n",
        "\n",
        "        optimizer.zero_grad()\n",
        "        loss.backward()\n",
        "        optimizer.step()\n",
        "\n",
        "        overall_loss += loss.item()\n",
        "\n",
        "        progress_bar.set_postfix({'loss': f'{loss.item():.4f}'})\n",
        "\n",
        "    progress_bar.close()\n",
        "\n",
        "    average_loss = overall_loss / len(train_loader.dataset)\n",
        "    wandb.log({\n",
        "        \"epoch\": epoch,\n",
        "        \"loss\": average_loss,\n",
        "        \"learning_rate\": optimizer.param_groups[0]['lr']\n",
        "    })\n",
        "    print(f\"Epoch [{epoch+1}/{number_epochs}], Loss: {average_loss:.4f}\")\n",
        "\n",
        "    scheduler.step(average_loss)\n",
        "\n",
        "inference(num_examples=10)"
      ]
    }
  ],
  "metadata": {
    "accelerator": "GPU",
    "colab": {
      "gpuType": "T4",
      "provenance": []
    },
    "kernelspec": {
      "display_name": "Python 3",
      "name": "python3"
    },
    "language_info": {
      "codemirror_mode": {
        "name": "ipython",
        "version": 3
      },
      "file_extension": ".py",
      "mimetype": "text/x-python",
      "name": "python",
      "nbconvert_exporter": "python",
      "pygments_lexer": "ipython3",
      "version": "3.10.14"
    }
  },
  "nbformat": 4,
  "nbformat_minor": 0
}
